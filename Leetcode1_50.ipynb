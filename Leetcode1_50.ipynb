{
  "nbformat": 4,
  "nbformat_minor": 0,
  "metadata": {
    "colab": {
      "name": "Leetcode1-50.ipynb",
      "provenance": [],
      "authorship_tag": "ABX9TyNUejw7crTtGygTc0G0ludX",
      "include_colab_link": true
    },
    "kernelspec": {
      "name": "python3",
      "display_name": "Python 3"
    }
  },
  "cells": [
    {
      "cell_type": "markdown",
      "metadata": {
        "id": "view-in-github",
        "colab_type": "text"
      },
      "source": [
        "<a href=\"https://colab.research.google.com/github/zg104/Leetcode/blob/master/Leetcode1_50.ipynb\" target=\"_parent\"><img src=\"https://colab.research.google.com/assets/colab-badge.svg\" alt=\"Open In Colab\"/></a>"
      ]
    },
    {
      "cell_type": "markdown",
      "metadata": {
        "id": "B-0urvly5cM1",
        "colab_type": "text"
      },
      "source": [
        "# Leetcode Day 1 -- 6/21/2020\n",
        "\n",
        "- two sum\n",
        "- reverse integer\n",
        "- palindrome number"
      ]
    },
    {
      "cell_type": "markdown",
      "metadata": {
        "id": "Y2wVODvFviRb",
        "colab_type": "text"
      },
      "source": [
        "## [Two Sum](https://leetcode.com/problems/two-sum/)\n",
        "\n",
        "Given an array of integers, return indices of the two numbers such that they add up to a specific target.\n",
        "\n",
        "You may assume that each input would have exactly one solution, and you may not use the same element twice."
      ]
    },
    {
      "cell_type": "code",
      "metadata": {
        "id": "NCKKQMGyvtRB",
        "colab_type": "code",
        "colab": {}
      },
      "source": [
        "# Given nums = [2, 7, 11, 15], target = 9,\n",
        "\n",
        "# Because nums[0] + nums[1] = 2 + 7 = 9,\n",
        "# return [0, 1]."
      ],
      "execution_count": null,
      "outputs": []
    },
    {
      "cell_type": "code",
      "metadata": {
        "id": "UIKU6pOIwQ4r",
        "colab_type": "code",
        "colab": {}
      },
      "source": [
        "# define the input\n",
        "nums = [2,7,11,15]\n",
        "target = 9"
      ],
      "execution_count": null,
      "outputs": []
    },
    {
      "cell_type": "code",
      "metadata": {
        "id": "Z_p8yE6Ev85r",
        "colab_type": "code",
        "colab": {
          "base_uri": "https://localhost:8080/",
          "height": 70
        },
        "outputId": "3070625f-35f7-4636-941b-360f1e8c0502"
      },
      "source": [
        "%%time\n",
        "\n",
        "# 不难想到我们可以用两个循环遍历所有列表中的元素\n",
        "# 从而使得每一对的和和target来比较，如果相等，则返回对应的index\n",
        "# 但是这样做时间消耗在o(n^2)左右\n",
        "\n",
        "def bruteforce2sum(nums,target):\n",
        "  for i in range(len(nums)):\n",
        "    for j in range(i+1,len(nums)):\n",
        "      sum = nums[i] + nums[j]\n",
        "      if sum == target:\n",
        "        return [i,j]\n",
        "print(bruteforce2sum(nums,target))"
      ],
      "execution_count": null,
      "outputs": [
        {
          "output_type": "stream",
          "text": [
            "[0, 1]\n",
            "CPU times: user 442 µs, sys: 0 ns, total: 442 µs\n",
            "Wall time: 638 µs\n"
          ],
          "name": "stdout"
        }
      ]
    },
    {
      "cell_type": "code",
      "metadata": {
        "id": "A0wEaZ9lvyYr",
        "colab_type": "code",
        "colab": {
          "base_uri": "https://localhost:8080/",
          "height": 52
        },
        "outputId": "66357665-3265-4497-c285-33b07127f31f"
      },
      "source": [
        "# 改进！\n",
        "\n",
        "# 假如我们有nums = [2,7,11,15], target = 9\n",
        "# 那么如果只用一次循环该怎么做呢？\n",
        "# 第一个数字是2，那么我们需要找的是 9-2=7 的位置\n",
        "# 也就是我们需要一种方法储存complement的index （字典）\n",
        "\n",
        "%%time\n",
        "def TwoSum(nums,target):\n",
        "\n",
        "  # 如果nums长度小于等于1的话，没有和\n",
        "  if len(nums) <= 1:\n",
        "    return []\n",
        "  \n",
        "  # 建立空的字典储存complement\n",
        "  dic = {}\n",
        "  for i in range(len(nums)):\n",
        "\n",
        "    # 第一次循环\n",
        "    # num = 2\n",
        "    # key = 2 not in dict --> dic[7] = 0\n",
        "    # dic = {7:0}\n",
        "    # 也就是如果你有7，那你和num[0]相加等于target\n",
        "    # 所以接下来我们继续遍历，知道找到7的位置（如果存在的话）\n",
        "\n",
        "    # 第二次循环\n",
        "    # num = 7\n",
        "    # key = 7 in dict 因为 dic = {7:0}\n",
        "    # 所以我们知道了7的index，等于i\n",
        "    # 7的补是2，也就是dic[nums[i]]\n",
        "\n",
        "    # 要注意这个题要求有唯一解！\n",
        "\n",
        "    num = nums[i]\n",
        "    if num in dic: \n",
        "      return [dic[num],i]\n",
        "    else:\n",
        "      dic[target-num] = i\n",
        "  return []\n",
        "\n",
        "TwoSum(nums,target)\n",
        "\n",
        "# 节省很多时间！"
      ],
      "execution_count": null,
      "outputs": [
        {
          "output_type": "stream",
          "text": [
            "CPU times: user 12 µs, sys: 0 ns, total: 12 µs\n",
            "Wall time: 16 µs\n"
          ],
          "name": "stdout"
        }
      ]
    },
    {
      "cell_type": "markdown",
      "metadata": {
        "id": "h-vhHPS_0etV",
        "colab_type": "text"
      },
      "source": [
        "## [Reverse Integer](https://leetcode.com/problems/reverse-integer/)\n",
        "\n",
        "Given a 32-bit signed integer, reverse digits of an integer.\n",
        "\n",
        "__Note:__\n",
        "Assume we are dealing with an environment which could only store integers within the 32-bit signed integer range: **[−2^31,  2^31 − 1]**. For the purpose of this problem, assume that your function returns 0 when the reversed integer overflows."
      ]
    },
    {
      "cell_type": "code",
      "metadata": {
        "id": "VRR9IPcnzrNY",
        "colab_type": "code",
        "colab": {}
      },
      "source": [
        "# Example 1:\n",
        "\n",
        "# Input: 123\n",
        "# Output: 321\n",
        "\n",
        "# Example 2:\n",
        "\n",
        "# Input: -123\n",
        "# Output: -321\n",
        "\n",
        "# Example 3:\n",
        "\n",
        "# Input: 120\n",
        "# Output: 21"
      ],
      "execution_count": null,
      "outputs": []
    },
    {
      "cell_type": "code",
      "metadata": {
        "id": "Z9099POu2rly",
        "colab_type": "code",
        "colab": {}
      },
      "source": [
        "# define the input\n",
        "num = 1234230"
      ],
      "execution_count": null,
      "outputs": []
    },
    {
      "cell_type": "code",
      "metadata": {
        "id": "3Ahnb4_D0rA-",
        "colab_type": "code",
        "colab": {
          "base_uri": "https://localhost:8080/",
          "height": 52
        },
        "outputId": "27f02a7b-ea5d-4e80-8fc5-e9a7b593eaa1"
      },
      "source": [
        "%%time\n",
        "\n",
        "def ReverseInteger(num):\n",
        "  # 我们想做的是把数字反转过来，那么我们需要把一个数字比如123\n",
        "  # 个位数上的3拿下来，赋值给另一个变量比如a\n",
        "  # 原来的数字变成120，我们把它变成12\n",
        "  # 再把12中的2拿下来放在a的个位，a变成了32\n",
        "  # 原来的数字变成了1\n",
        "  # 最后再把1放在a的个位，a变成了321\n",
        "  # 原来的数字为0，结束！\n",
        "\n",
        "  result = 0\n",
        "\n",
        "  # 先把所有数字变成正数，再去讨论正负号的问题\n",
        "  a = abs(num)\n",
        "  while(a != 0):\n",
        "    temp = a % 10\n",
        "    result = result * 10 + temp\n",
        "    a = a // 10\n",
        "\n",
        "  if num > 0 and result < 2147483647:\n",
        "    return num\n",
        "  elif num < 0 and result <= 2147483647:\n",
        "    return -num\n",
        "  else:\n",
        "    return 0\n",
        "\n",
        "\n",
        "ReverseInteger(21473643)"
      ],
      "execution_count": null,
      "outputs": [
        {
          "output_type": "stream",
          "text": [
            "CPU times: user 9 µs, sys: 2 µs, total: 11 µs\n",
            "Wall time: 14.8 µs\n"
          ],
          "name": "stdout"
        }
      ]
    },
    {
      "cell_type": "markdown",
      "metadata": {
        "id": "hjEuebIg3-TQ",
        "colab_type": "text"
      },
      "source": [
        "## [Palindrome Number](https://leetcode.com/problems/palindrome-number/)\n",
        "\n",
        "Determine whether an integer is a palindrome. An integer is a palindrome when it reads the same backward as forward."
      ]
    },
    {
      "cell_type": "code",
      "metadata": {
        "id": "Nd4ozt0L3EKj",
        "colab_type": "code",
        "colab": {}
      },
      "source": [
        "# Example 1:\n",
        "\n",
        "# Input: 121\n",
        "# Output: true\n",
        "\n",
        "# Example 2:\n",
        "\n",
        "# Input: -121\n",
        "# Output: false\n",
        "# Explanation: From left to right, it reads -121. From right to left, \n",
        "# it becomes 121-. Therefore it is not a palindrome.\n",
        "\n",
        "# Example 3:\n",
        "\n",
        "# Input: 10\n",
        "# Output: false\n",
        "# Explanation: Reads 01 from right to left. Therefore it is not a palindrome."
      ],
      "execution_count": null,
      "outputs": []
    },
    {
      "cell_type": "code",
      "metadata": {
        "id": "3u9pl_ZD470o",
        "colab_type": "code",
        "colab": {}
      },
      "source": [
        "# define the input\n",
        "num = 12321"
      ],
      "execution_count": null,
      "outputs": []
    },
    {
      "cell_type": "code",
      "metadata": {
        "id": "5t5gdhHR4Var",
        "colab_type": "code",
        "colab": {}
      },
      "source": [
        "def PalindromeNumber(num):\n",
        "  # 和之前的题非常相似\n",
        "  # 我们只需判断reverse是否等于原来的数字\n",
        "  # 注意负数肯定不满足条件\n",
        "\n",
        "  res = 0\n",
        "  a = abs(num)\n",
        "\n",
        "  while(a != 0):\n",
        "    temp = a % 10\n",
        "    res = res * 10 + temp\n",
        "    a = a // 10\n",
        "  \n",
        "  if num < 0:\n",
        "    return False\n",
        "\n",
        "  if num == res:\n",
        "    return True"
      ],
      "execution_count": null,
      "outputs": []
    },
    {
      "cell_type": "code",
      "metadata": {
        "id": "YjYRD2d65FVp",
        "colab_type": "code",
        "colab": {
          "base_uri": "https://localhost:8080/",
          "height": 70
        },
        "outputId": "58451fd1-2e50-4eb1-e408-7c14a76b9f8c"
      },
      "source": [
        "%%time\n",
        "PalindromeNumber(num)"
      ],
      "execution_count": null,
      "outputs": [
        {
          "output_type": "stream",
          "text": [
            "CPU times: user 14 µs, sys: 0 ns, total: 14 µs\n",
            "Wall time: 19.3 µs\n"
          ],
          "name": "stdout"
        },
        {
          "output_type": "execute_result",
          "data": {
            "text/plain": [
              "True"
            ]
          },
          "metadata": {
            "tags": []
          },
          "execution_count": 22
        }
      ]
    },
    {
      "cell_type": "markdown",
      "metadata": {
        "id": "QZ1SPwIv59h8",
        "colab_type": "text"
      },
      "source": [
        "To be continued!"
      ]
    },
    {
      "cell_type": "markdown",
      "metadata": {
        "id": "IH0veAzcm1tO",
        "colab_type": "text"
      },
      "source": [
        "# Leetcode Day 2 -- 6/22/2020\n",
        "\n",
        "- Roman to Integer\n",
        "- Longest Common Prefix\n",
        "- Valid Parentheses"
      ]
    },
    {
      "cell_type": "markdown",
      "metadata": {
        "id": "DM0j7TTtE64p",
        "colab_type": "text"
      },
      "source": [
        "## [Roman to Integer](https://leetcode.com/problems/roman-to-integer/)\n",
        "\n",
        "Roman numerals are represented by seven different symbols: I, V, X, L, C, D and M."
      ]
    },
    {
      "cell_type": "code",
      "metadata": {
        "id": "3kUhOAN2E6I7",
        "colab_type": "code",
        "colab": {}
      },
      "source": [
        "# Symbol       Value\n",
        "# I             1\n",
        "# V             5\n",
        "# X             10\n",
        "# L             50\n",
        "# C             100\n",
        "# D             500\n",
        "# M             1000"
      ],
      "execution_count": null,
      "outputs": []
    },
    {
      "cell_type": "code",
      "metadata": {
        "id": "mz_3n7WiQhtY",
        "colab_type": "code",
        "colab": {}
      },
      "source": [
        "# define the input\n",
        "s = ['CDXLIV', 'MCMXCIV']"
      ],
      "execution_count": null,
      "outputs": []
    },
    {
      "cell_type": "code",
      "metadata": {
        "id": "EOmWbk2UFB8l",
        "colab_type": "code",
        "colab": {}
      },
      "source": [
        "def romanToInt(s):\n",
        "\n",
        "  # 先创建一个字典来储存罗马字母对应的数值，方便索引\n",
        "  dic = {}\n",
        "  dic['I'] = 1\n",
        "  dic['V'] = 5\n",
        "  dic['X'] = 10\n",
        "  dic['L'] = 50\n",
        "  dic['C'] = 100\n",
        "  dic['D'] = 500\n",
        "  dic['M'] = 1000\n",
        "\n",
        "  # 注意类似IX,CM这种类型的存在\n",
        "  # 也就是如果I出现在X的前面\n",
        "  # 我们应该加上X和I的差值\n",
        "\n",
        "  # 所以应该去判断这些字母的位置关系\n",
        "  num = 0\n",
        "  for i in range(len(s)):\n",
        "\n",
        "    # 如果MCMXCIV\n",
        "    # C在M前面，但是M的值大于C的值，那么应该加上M-C\n",
        "\n",
        "    # 这里为什么要用i和i-1，而不是i和i+1?\n",
        "    # 会索引超出范围，而i>0的限制确保了i-1的存在，\n",
        "    # 而且else中的情况包含i=0，也就是涵盖了s[0]\n",
        "\n",
        "    if i > 0 and dic[s[i]] > dic[s[i-1]]:\n",
        "\n",
        "      # 这里为什么乘以2？\n",
        "      # 假如不乘以2\n",
        "      # MCM = 1000 + 100 + 1000 - 100 = M+C+(M-C)=M+M 错的\n",
        "      # MCM = 1000 + (1000 - 100) = M + M - C\n",
        "      # 所以我们应该把dic[s[i-1]]减下去\n",
        "\n",
        "      num += dic[s[i]] - 2*dic[s[i-1]]\n",
        "    else:\n",
        "      num += dic[s[i]]\n",
        "\n",
        "  return num"
      ],
      "execution_count": null,
      "outputs": []
    },
    {
      "cell_type": "code",
      "metadata": {
        "id": "mwRIv-7mNs8_",
        "colab_type": "code",
        "colab": {
          "base_uri": "https://localhost:8080/",
          "height": 70
        },
        "outputId": "c71317ec-5b5e-4e19-f9e3-59c82a393fdc"
      },
      "source": [
        "%%time\n",
        "[romanToInt(x) for x in s]"
      ],
      "execution_count": null,
      "outputs": [
        {
          "output_type": "stream",
          "text": [
            "CPU times: user 18 µs, sys: 2 µs, total: 20 µs\n",
            "Wall time: 24.6 µs\n"
          ],
          "name": "stdout"
        },
        {
          "output_type": "execute_result",
          "data": {
            "text/plain": [
              "[444, 1994]"
            ]
          },
          "metadata": {
            "tags": []
          },
          "execution_count": 26
        }
      ]
    },
    {
      "cell_type": "markdown",
      "metadata": {
        "id": "2Cs2Tg3gSl8v",
        "colab_type": "text"
      },
      "source": [
        "## [Longest Common Prefix](https://leetcode.com/problems/longest-common-prefix/)\n",
        "\n",
        "Write a function to find the longest common prefix string amongst an array of strings.\n",
        "\n",
        "If there is no common prefix, return an empty string \"\"."
      ]
    },
    {
      "cell_type": "code",
      "metadata": {
        "id": "tkVoBvnUNtrp",
        "colab_type": "code",
        "colab": {}
      },
      "source": [
        "# Example 1:\n",
        "\n",
        "# Input: [\"flower\",\"flow\",\"flight\"]\n",
        "# Output: \"fl\"\n",
        "\n",
        "# Example 2:\n",
        "\n",
        "# Input: [\"dog\",\"racecar\",\"car\"]\n",
        "# Output: \"\"\n",
        "# Explanation: There is no common prefix among the input strings."
      ],
      "execution_count": null,
      "outputs": []
    },
    {
      "cell_type": "code",
      "metadata": {
        "id": "TybKA477YSKP",
        "colab_type": "code",
        "colab": {}
      },
      "source": [
        "strs = [[\"flower\",\"flow\",\"flight\"],[\"\"],[\"dog\",\"racecar\",\"car\"]]"
      ],
      "execution_count": null,
      "outputs": []
    },
    {
      "cell_type": "code",
      "metadata": {
        "id": "ArCG0TMsSvNu",
        "colab_type": "code",
        "colab": {}
      },
      "source": [
        "def longestCommonPrefix(strs):\n",
        "\n",
        "  # If there is no common prefix, return an empty string \"\"\n",
        "  if not strs:\n",
        "    return \"\"\n",
        "\n",
        "  for i in range(len(strs[0])):\n",
        "    for string in strs[1:]:\n",
        "      # 这里i >= len(string)成立的话也要return\n",
        "      # 因为这说明了string已经被完全遍历了并且也满足条件\n",
        "      # 比如[\"flower\",\"flow\"]\n",
        "      # 那么会return \"flow\"\n",
        "      # 而strs[0][i] != string[i]是永远不会成立的\n",
        "      # 所以用or来连接，任意一个成立就return\n",
        "      \n",
        "      if i >= len(string) or strs[0][i] != string[i]:\n",
        "        return strs[0][:i]\n",
        "\n",
        "  # 这里是因为input可以等于[\"\"], 那么我们直接return strs[0]\n",
        "  return strs[0]\n",
        "\n",
        "  #### 循环部分解释 ####\n",
        "\n",
        "  # 我们先树立一个标杆\n",
        "  # 这里用strs里的第一个值，这样可以便于使用for循环\n",
        "  # 因为我们不用再去考虑跳过strs中间的值，如果把中间的值当做标杆的话\n",
        "  # 假如[\"flower\",\"flow\",\"flight\"]\n",
        "  # 标杆 = 'flower'\n",
        "  # 我们把flower的每一个字母都跟后面其他的单词同一位置的字母作比较\n",
        "\n",
        "  # 1st iteration\n",
        "  # i = 0\n",
        "  # strs[0][i] = \"f\"\n",
        "  # string = \"flow\"\n",
        "  # strs[0][i] == string[i]成立所以不返回继续循环\n",
        "\n",
        "  # i = 0\n",
        "  # strs[0][i] = \"f\"\n",
        "  # string = \"flight\"\n",
        "  # strs[0][i] == string[i]成立所以不返回继续循环\n",
        "  # 此时for string in strs[1:]结束\n",
        "\n",
        "  # 2nd iteration\n",
        "  # i = 1\n",
        "  # strs[0][i] = \"l\"\n",
        "  # string = \"flow\"\n",
        "  # strs[0][i] == string[i]成立所以不返回继续循环\n",
        "\n",
        "  # i = 1\n",
        "  # strs[0][i] = \"l\"\n",
        "  # string = \"flight\"\n",
        "  # strs[0][i] == string[i]成立所以不返回继续循环\n",
        "  # 此时for string in strs[1:]结束\n",
        "\n",
        "  # 3rd iteration\n",
        "  # i = 3\n",
        "  # strs[0][i] = \"o\"\n",
        "  # string = \"flow\"\n",
        "  # strs[0][i] == string[i]成立所以不返回继续循环\n",
        "\n",
        "  # i = 3\n",
        "  # strs[0][i] = \"o\"\n",
        "  # string = \"flight\"\n",
        "  # strs[0][i] != string[i]成立所以返回strs[0][:i] = \"fl\"\n",
        "  # 结束\n"
      ],
      "execution_count": null,
      "outputs": []
    },
    {
      "cell_type": "code",
      "metadata": {
        "id": "1vxU7bNrYPzm",
        "colab_type": "code",
        "colab": {
          "base_uri": "https://localhost:8080/",
          "height": 70
        },
        "outputId": "98e69101-7d8a-407a-b9ef-b1280deb7ef8"
      },
      "source": [
        "%%time\n",
        "[longestCommonPrefix(s) for s in strs]"
      ],
      "execution_count": null,
      "outputs": [
        {
          "output_type": "stream",
          "text": [
            "CPU times: user 12 µs, sys: 2 µs, total: 14 µs\n",
            "Wall time: 17.4 µs\n"
          ],
          "name": "stdout"
        },
        {
          "output_type": "execute_result",
          "data": {
            "text/plain": [
              "['fl', '', '']"
            ]
          },
          "metadata": {
            "tags": []
          },
          "execution_count": 30
        }
      ]
    },
    {
      "cell_type": "code",
      "metadata": {
        "id": "ogJ2rJxrYVVS",
        "colab_type": "code",
        "colab": {}
      },
      "source": [
        "# 上面的方法较为易于理解，但是这个方法更泛化，速度也更快\n",
        "def longestCommonPrefix(strs):\n",
        "  # 思路是在\"\"的基础上查找prefix并不断添加，知道循环退出，条件不满足\n",
        "  res = \"\"\n",
        "  i = 0\n",
        "  \n",
        "  while True:\n",
        "    try:\n",
        "      sets = set(string[i] for string in strs)\n",
        "      # print(\"sets\", sets) 如果想查看sets的值，可以unlock\n",
        "      # set函数只返回list的唯一值\n",
        "      # 假如[\"flower\",\"flow\",\"flight\"]\n",
        "      # sets = \"f\" if i = 0\n",
        "      if len(sets) == 1:\n",
        "        # 此时把sets的值不断转到res中\n",
        "        # update i = i + 1\n",
        "        # 使得我们可以进行下一个字母的比较\n",
        "        res += sets.pop()\n",
        "        i += 1\n",
        "      else:\n",
        "        break\n",
        "    except Exception:\n",
        "      break\n",
        "  return res"
      ],
      "execution_count": null,
      "outputs": []
    },
    {
      "cell_type": "code",
      "metadata": {
        "id": "CZP_CON6eLlv",
        "colab_type": "code",
        "colab": {
          "base_uri": "https://localhost:8080/",
          "height": 70
        },
        "outputId": "ce05ec23-1f1b-4630-fa3f-c456d22a8c90"
      },
      "source": [
        "%%time\n",
        "[longestCommonPrefix(s) for s in strs]"
      ],
      "execution_count": null,
      "outputs": [
        {
          "output_type": "stream",
          "text": [
            "CPU times: user 26 µs, sys: 0 ns, total: 26 µs\n",
            "Wall time: 30.8 µs\n"
          ],
          "name": "stdout"
        },
        {
          "output_type": "execute_result",
          "data": {
            "text/plain": [
              "['fl', '', '']"
            ]
          },
          "metadata": {
            "tags": []
          },
          "execution_count": 32
        }
      ]
    },
    {
      "cell_type": "code",
      "metadata": {
        "id": "-DmXasejeNN4",
        "colab_type": "code",
        "colab": {}
      },
      "source": [
        "# 这个方法使用了sort函数对所有的strings进行排列\n",
        "# 这样问题就简化成了第一个单词和最后一个单词之间的比较\n",
        "# 但是sort函数也算是辅助函数\n",
        "def longestCommonPrefix(strs):  \n",
        "  strs.sort()\n",
        "  if len(strs)==0:\n",
        "    return \"\"\n",
        "  first=list(strs[0])\n",
        "  last=list(strs[len(strs)-1])\n",
        "  res=\"\"\n",
        "  for i in range(len(first)):\n",
        "    if first[i]==last[i]:\n",
        "      res += first[i]\n",
        "    else:\n",
        "      break\n",
        "  return res"
      ],
      "execution_count": null,
      "outputs": []
    },
    {
      "cell_type": "code",
      "metadata": {
        "id": "rqDWGQgshrP5",
        "colab_type": "code",
        "colab": {
          "base_uri": "https://localhost:8080/",
          "height": 70
        },
        "outputId": "eb758a80-4aad-4800-c6cc-b4c6510e10f4"
      },
      "source": [
        "%%time\n",
        "[longestCommonPrefix(s) for s in strs]"
      ],
      "execution_count": null,
      "outputs": [
        {
          "output_type": "stream",
          "text": [
            "CPU times: user 14 µs, sys: 2 µs, total: 16 µs\n",
            "Wall time: 17.9 µs\n"
          ],
          "name": "stdout"
        },
        {
          "output_type": "execute_result",
          "data": {
            "text/plain": [
              "['fl', '', '']"
            ]
          },
          "metadata": {
            "tags": []
          },
          "execution_count": 34
        }
      ]
    },
    {
      "cell_type": "markdown",
      "metadata": {
        "id": "IIXBi1PL2fR3",
        "colab_type": "text"
      },
      "source": [
        "## [Valid Parentheses](https://leetcode.com/problems/valid-parentheses/)\n",
        "\n",
        "Given a string containing just the characters '(', ')', '{', '}', '[' and ']', determine if the input string is valid.\n",
        "\n",
        "An input string is valid if:\n",
        "\n",
        "- Open brackets must be closed by the same type of brackets.\n",
        "- Open brackets must be closed in the correct order.\n",
        "\n",
        "Note that an empty string is also considered valid."
      ]
    },
    {
      "cell_type": "code",
      "metadata": {
        "id": "ECCsmh3y7ri9",
        "colab_type": "code",
        "colab": {}
      },
      "source": [
        "# define the input\n",
        "s = ['{[]}',\n",
        "     '{{',\n",
        "     '[',\n",
        "     '{[)']"
      ],
      "execution_count": null,
      "outputs": []
    },
    {
      "cell_type": "code",
      "metadata": {
        "id": "MmSaFz7mhtGv",
        "colab_type": "code",
        "colab": {}
      },
      "source": [
        "def isValid(s):\n",
        "\n",
        "  # 这个问题的思路在于stack方法\n",
        "  # 比如'{[]}'\n",
        "  # 我们要保证顺序，所以先把open括号丢进stack\n",
        "  # 具体步骤是用字典储存这些括号，open --> close\n",
        "  # 对s进行遍历，如果是open，就存在stack\n",
        "  # 再用pop函数和close括号作比较\n",
        "  # 最后stack是空集说明True\n",
        "\n",
        "\n",
        "  stack = []\n",
        "  lookup = {'(':')', '[':']', '{':'}'}\n",
        "  for i in s:\n",
        "    if i in lookup:\n",
        "      stack.append(i)\n",
        "    elif len(stack) == 0 or lookup[stack.pop()] != i:\n",
        "      return False\n",
        "  return len(stack) == 0\n",
        "\n",
        "  #### 循环解释 ####\n",
        "\n",
        "  # 假如 ([])\n",
        "  # 1st iter\n",
        "  # i = (\n",
        "  # ( in lookup\n",
        "  # stack --> [\"(\"]\n",
        "  \n",
        "  # 2nd iter\n",
        "  # i = [\n",
        "  # [ in lookup\n",
        "  # stack --> [\"(\", \"[\"]\n",
        "\n",
        "  # 3rd iter\n",
        "  # i = ]\n",
        "  # ] not in lookup\n",
        "  # stack.pop() = \"[\" -- lookup[stack.pop()] == \"]\"\n",
        "  # stack --> [\"(\"]\n",
        "\n",
        "  # 4th iter\n",
        "  # i = )\n",
        "  # ) not in lookup\n",
        "  # stack.pop() = \")\" -- lookup[stack.pop()] == \")\"\n",
        "  # stack --> []\n",
        "\n",
        "  # 此时len(stack) == 0\n",
        "  # return True"
      ],
      "execution_count": null,
      "outputs": []
    },
    {
      "cell_type": "code",
      "metadata": {
        "id": "4iLm9fuu7ql_",
        "colab_type": "code",
        "colab": {
          "base_uri": "https://localhost:8080/",
          "height": 35
        },
        "outputId": "eca6a41c-4dbf-4268-c12c-8b42e3b1735c"
      },
      "source": [
        "[isValid(x) for x in s]"
      ],
      "execution_count": null,
      "outputs": [
        {
          "output_type": "execute_result",
          "data": {
            "text/plain": [
              "[True, False, False, False]"
            ]
          },
          "metadata": {
            "tags": []
          },
          "execution_count": 37
        }
      ]
    },
    {
      "cell_type": "markdown",
      "metadata": {
        "id": "dNgb8z2sD51I",
        "colab_type": "text"
      },
      "source": [
        "# Leetcode Day 3 -- 6/23/2020\n",
        "\n",
        "- Merge Two Sorted Lists\n",
        "- Remove Duplicates from Sorted Array\n",
        "- Remove Element"
      ]
    },
    {
      "cell_type": "markdown",
      "metadata": {
        "id": "7jcQA1ik3vga",
        "colab_type": "text"
      },
      "source": [
        "## [Merge Two Sorted Lists](https://leetcode.com/problems/merge-two-sorted-lists/)\n",
        "\n",
        "Merge two sorted linked lists and return it as a new sorted list. The new list should be made by splicing together the nodes of the first two lists."
      ]
    },
    {
      "cell_type": "code",
      "metadata": {
        "id": "wtMYdHW93zjg",
        "colab_type": "code",
        "colab": {}
      },
      "source": [
        "# Example:\n",
        "\n",
        "# Input: 1->2->4, 1->3->4\n",
        "# Output: 1->1->2->3->4->4"
      ],
      "execution_count": null,
      "outputs": []
    },
    {
      "cell_type": "code",
      "metadata": {
        "id": "dLczPyQKFW5k",
        "colab_type": "code",
        "colab": {}
      },
      "source": [
        "# Definition for singly-linked list.\n",
        "# class ListNode(object):\n",
        "#     def __init__(self, val=0, next=None):\n",
        "#         self.val = val\n",
        "#         self.next = next\n",
        "class Solution(object):\n",
        "    def mergeTwoLists(self, l1, l2):\n",
        "        \"\"\"\n",
        "        :type l1: ListNode\n",
        "        :type l2: ListNode\n",
        "        :rtype: ListNode\n",
        "        \"\"\"\n",
        "\n",
        "        # 这个算法在于使用dummy head和dummy tail\n",
        "        # l1 = 1,2,4\n",
        "        # l2 = 1,3,4\n",
        "        # 我们创造一个dummy_head来作为起始\n",
        "        # dummy_head -> 1 -> 1 -> 2 -> 3 -> 4 -> 4\n",
        "        # 那么dummy_head.next就是我们要的\n",
        "\n",
        "        \n",
        "        if not l1: return l2\n",
        "        if not l2: return l1\n",
        "\n",
        "        # 设置dummy_head\n",
        "        # 设置两个pointer: i,j\n",
        "        # 在i和j都非空的时候\n",
        "        # if i.val < j.val\n",
        "        # set curr.next to be the smaller one which is i.val\n",
        "        # otherwise, set curr.next to be j.val\n",
        "        # then, throw away the first value of i and j if this \n",
        "        # value is chosen to be curr.next\n",
        "        # after ifelse, we update curr = curr.next\n",
        "\n",
        "        # after while loop, we check the quality of i and j\n",
        "        # if i is not null: set curr.next = i\n",
        "        # because if len(i) == len(j), i and j will be of \n",
        "        # length 0\n",
        "        # so i and j left will be set to be curr.next\n",
        "        \n",
        "        dummy_head = ListNode(0)\n",
        "        curr = dummy_head\n",
        "        \n",
        "        i = l1\n",
        "        j = l2\n",
        "        \n",
        "        while i and j:\n",
        "            \n",
        "            i_val = i.val\n",
        "            j_val = j.val\n",
        "            \n",
        "            if i_val < j_val:\n",
        "                curr.next = ListNode(i_val)\n",
        "                i = i.next\n",
        "            else:\n",
        "                curr.next = ListNode(j_val)\n",
        "                j = j.next\n",
        "            curr = curr.next\n",
        "        \n",
        "        if i:\n",
        "            curr.next = i\n",
        "        if j:\n",
        "            curr.next = j\n",
        "        \n",
        "        # remember to start from dummy_head.next\n",
        "            \n",
        "        return dummy_head.next"
      ],
      "execution_count": null,
      "outputs": []
    },
    {
      "cell_type": "code",
      "metadata": {
        "id": "eltqkkggBKCJ",
        "colab_type": "code",
        "colab": {}
      },
      "source": [
        "# Definition for singly-linked list.\n",
        "# class ListNode(object):\n",
        "#     def __init__(self, val=0, next=None):\n",
        "#         self.val = val\n",
        "#         self.next = next\n",
        "class Solution(object):\n",
        "    def mergeTwoLists(self, l1, l2):\n",
        "        \"\"\"\n",
        "        :type l1: ListNode\n",
        "        :type l2: ListNode\n",
        "        :rtype: ListNode\n",
        "        \"\"\" \n",
        "\n",
        "        # recursion method \n",
        "\n",
        "        # 递归方法也可以做这道题\n",
        "        # 前两步是一样的\n",
        "        \n",
        "        # 详解看这里\n",
        "        # https://www.youtube.com/watch?v=bdWOmYL5d1g&t=491s\n",
        "      \n",
        "        if not l1:return l2\n",
        "        if not l2:return l1\n",
        "\n",
        "        if l1.val < l2.val:\n",
        "            l1.next = self.mergeTwoLists(l1.next, l2)\n",
        "            return l1\n",
        "        else:\n",
        "            l2.next = self.mergeTwoLists(l1, l2.next)\n",
        "            return l2"
      ],
      "execution_count": null,
      "outputs": []
    },
    {
      "cell_type": "markdown",
      "metadata": {
        "id": "-Dvxx6SdmY8H",
        "colab_type": "text"
      },
      "source": [
        "## [Remove Duplicates from Sorted Array](https://leetcode.com/problems/remove-duplicates-from-sorted-array/)\n",
        "\n",
        "Given a sorted array nums, remove the duplicates in-place such that each element appear only once and return the new length.\n",
        "\n",
        "Do not allocate extra space for another array, you must do this by modifying the input array in-place with O(1) extra memory."
      ]
    },
    {
      "cell_type": "code",
      "metadata": {
        "id": "Xummf5xSmcoR",
        "colab_type": "code",
        "colab": {}
      },
      "source": [
        "# Example 1:\n",
        "\n",
        "# Given nums = [1,1,2],\n",
        "\n",
        "# Your function should return length = 2, with the first two elements of nums being 1 and 2 respectively.\n",
        "\n",
        "# It doesn't matter what you leave beyond the returned length.\n",
        "# Example 2:\n",
        "\n",
        "# Given nums = [0,0,1,1,1,2,2,3,3,4],\n",
        "\n",
        "# Your function should return length = 5, with the first five elements of nums being modified to 0, 1, 2, 3, and 4 respectively.\n",
        "\n",
        "# It doesn't matter what values are set beyond the returned length."
      ],
      "execution_count": null,
      "outputs": []
    },
    {
      "cell_type": "code",
      "metadata": {
        "id": "VMTqJ1S0uCdy",
        "colab_type": "code",
        "colab": {}
      },
      "source": [
        "# define the input\n",
        "nums = [0,0,1,1,1,2,2,3,3,4]"
      ],
      "execution_count": null,
      "outputs": []
    },
    {
      "cell_type": "code",
      "metadata": {
        "id": "g_Iln1dymfxj",
        "colab_type": "code",
        "colab": {}
      },
      "source": [
        "def removeDuplicates(nums):\n",
        "  \n",
        "    \"\"\"\n",
        "    :type nums: List[int]\n",
        "    :rtype: int\n",
        "    \"\"\"\n",
        "    # 这个题目我们是不可以重新建立一个list\n",
        "    # 必须在原有基础上对其修改\n",
        "\n",
        "    # Given nums = [0,0,1,1,1,2,2,3,3,4]\n",
        "    # 1st iter\n",
        "    # count = 0\n",
        "    # nums[count] = 0, nums[0] = 0\n",
        "    \n",
        "    # 2nd iter\n",
        "    # count = 0\n",
        "    # nums[count] = 0, nums[1] = 0\n",
        "\n",
        "    # 3rd iter\n",
        "    # count = 0\n",
        "    # nums[count] = 0, nums[2] = 1\n",
        "    # count = 1\n",
        "    # nums[1] = nums[2] = 1\n",
        "    # nums = [0,1,1,1,1,2,2,3,3,4]\n",
        "\n",
        "    # 这里要注意update nums[count]来保证count不会被重复的值导致连续+1\n",
        "\n",
        "    if not nums: return 0\n",
        "\n",
        "    count = 0\n",
        "    for i in range(len(nums)):\n",
        "      if nums[count] < nums[i]:\n",
        "        count += 1\n",
        "        nums[count] = nums[i]\n",
        "    return count+1\n",
        "\n",
        "    # 为什么不直接设置count = 1\n",
        "    # 因为假如nums = [1]\n",
        "    # nums[count]超出范围"
      ],
      "execution_count": null,
      "outputs": []
    },
    {
      "cell_type": "code",
      "metadata": {
        "id": "YVzuJyM-nkhO",
        "colab_type": "code",
        "colab": {
          "base_uri": "https://localhost:8080/",
          "height": 70
        },
        "outputId": "d3f28a94-2738-4be8-bec3-f7758e9063ac"
      },
      "source": [
        "%%time\n",
        "removeDuplicates(nums)"
      ],
      "execution_count": null,
      "outputs": [
        {
          "output_type": "stream",
          "text": [
            "CPU times: user 7 µs, sys: 1e+03 ns, total: 8 µs\n",
            "Wall time: 11.7 µs\n"
          ],
          "name": "stdout"
        },
        {
          "output_type": "execute_result",
          "data": {
            "text/plain": [
              "5"
            ]
          },
          "metadata": {
            "tags": []
          },
          "execution_count": 44
        }
      ]
    },
    {
      "cell_type": "code",
      "metadata": {
        "id": "MXxUt69ZuNCO",
        "colab_type": "code",
        "colab": {
          "base_uri": "https://localhost:8080/",
          "height": 70
        },
        "outputId": "b87769a1-2247-4822-8f88-60a67b0bf7b4"
      },
      "source": [
        "%%time\n",
        "len(set(nums))"
      ],
      "execution_count": null,
      "outputs": [
        {
          "output_type": "stream",
          "text": [
            "CPU times: user 6 µs, sys: 0 ns, total: 6 µs\n",
            "Wall time: 10 µs\n"
          ],
          "name": "stdout"
        },
        {
          "output_type": "execute_result",
          "data": {
            "text/plain": [
              "5"
            ]
          },
          "metadata": {
            "tags": []
          },
          "execution_count": 45
        }
      ]
    },
    {
      "cell_type": "markdown",
      "metadata": {
        "id": "W8EKWfgPwR01",
        "colab_type": "text"
      },
      "source": [
        "## [Remove Element](https://leetcode.com/problems/remove-element/)\n",
        "\n",
        "Given an array nums and a value val, remove all instances of that value in-place and return the new length.\n",
        "\n",
        "Do not allocate extra space for another array, you must do this by modifying the input array in-place with O(1) extra memory.\n",
        "\n",
        "The order of elements can be changed. It doesn't matter what you leave beyond the new length."
      ]
    },
    {
      "cell_type": "code",
      "metadata": {
        "id": "p7j-1ZmruRSr",
        "colab_type": "code",
        "colab": {}
      },
      "source": [
        "# Example 1:\n",
        "\n",
        "# Given nums = [3,2,2,3], val = 3,\n",
        "\n",
        "# Your function should return length = 2, with the first two elements of nums being 2.\n",
        "\n",
        "# It doesn't matter what you leave beyond the returned length.\n",
        "# Example 2:\n",
        "\n",
        "# Given nums = [0,1,2,2,3,0,4,2], val = 2,\n",
        "\n",
        "# Your function should return length = 5, with the first five elements of nums containing 0, 1, 3, 0, and 4.\n",
        "\n",
        "# Note that the order of those five elements can be arbitrary.\n",
        "\n",
        "# It doesn't matter what values are set beyond the returned length."
      ],
      "execution_count": null,
      "outputs": []
    },
    {
      "cell_type": "code",
      "metadata": {
        "id": "AnQBKCgR23vH",
        "colab_type": "code",
        "colab": {}
      },
      "source": [
        "# define the input \n",
        "nums = [0,1,2,2,3,0,4,2]\n",
        "val = 2"
      ],
      "execution_count": null,
      "outputs": []
    },
    {
      "cell_type": "code",
      "metadata": {
        "id": "dGW7SB3EwX2i",
        "colab_type": "code",
        "colab": {}
      },
      "source": [
        "def removeElement(nums,val):\n",
        "\n",
        "  i,last = 0, len(nums)-1\n",
        "\n",
        "  # nums = [3,2,2,3]\n",
        "  # 1st iter\n",
        "  # i = 0, last = 3\n",
        "  # nums[0] = 3 == 3\n",
        "  # swap\n",
        "  # nums = [3,2,2,3]\n",
        "  # last = 2\n",
        "\n",
        "  # 2nd iter\n",
        "  # i = 0, last = 2\n",
        "  # nums[0] = 3 == 3\n",
        "  # swap\n",
        "  # nums = [2,2,3,3]\n",
        "  # last = 1\n",
        "\n",
        "  # 3rd iter\n",
        "  # i = 0, last = 1\n",
        "  # nums[0] = 2 != 3\n",
        "  # no swap\n",
        "  # i = 1\n",
        "  # nums = [2,2,3,3]\n",
        "\n",
        "  # 4th iter\n",
        "  # i = 1, last = 1\n",
        "  # nums[1] = 2 != 3\n",
        "  # no swap\n",
        "  # i = 2\n",
        "  # nums = [2,2,3,3]\n",
        "\n",
        "  # break\n",
        "\n",
        "  while i <= last:\n",
        "    if nums[i] == val:\n",
        "      nums[i], nums[last] = nums[last], nums[i]\n",
        "      last = last - 1\n",
        "    else:\n",
        "      i = i + 1\n",
        "  return last + 1\n",
        "\n",
        "  # 记住index从零开始所以加1"
      ],
      "execution_count": null,
      "outputs": []
    },
    {
      "cell_type": "code",
      "metadata": {
        "id": "kYL_0u3G22G6",
        "colab_type": "code",
        "colab": {
          "base_uri": "https://localhost:8080/",
          "height": 70
        },
        "outputId": "8638789d-8050-46f3-d71b-0caab4181175"
      },
      "source": [
        "%%time\n",
        "removeElement(nums,val)"
      ],
      "execution_count": null,
      "outputs": [
        {
          "output_type": "stream",
          "text": [
            "CPU times: user 5 µs, sys: 0 ns, total: 5 µs\n",
            "Wall time: 8.11 µs\n"
          ],
          "name": "stdout"
        },
        {
          "output_type": "execute_result",
          "data": {
            "text/plain": [
              "5"
            ]
          },
          "metadata": {
            "tags": []
          },
          "execution_count": 49
        }
      ]
    },
    {
      "cell_type": "markdown",
      "metadata": {
        "id": "WGrZb1zPQmjB",
        "colab_type": "text"
      },
      "source": [
        "# Leetcode Day 4 -- 6/24/2020\n",
        "\n",
        "- Implement strStr()\n",
        "- Search Insert Position\n",
        "- Maximum Subarray"
      ]
    },
    {
      "cell_type": "markdown",
      "metadata": {
        "id": "a5nx1vRcQ-zG",
        "colab_type": "text"
      },
      "source": [
        "## [Implement strStr()](https://leetcode.com/problems/implement-strstr/)\n",
        "\n",
        "mplement strStr().\n",
        "\n",
        "Return the index of the first occurrence of needle in haystack, or -1 if needle is not part of haystack.\n"
      ]
    },
    {
      "cell_type": "code",
      "metadata": {
        "id": "l_mMCs-wQ8vr",
        "colab_type": "code",
        "colab": {}
      },
      "source": [
        "# Example 1:\n",
        "\n",
        "# Input: haystack = \"hello\", needle = \"ll\"\n",
        "# Output: 2\n",
        "# Example 2:\n",
        "\n",
        "# Input: haystack = \"aaaaa\", needle = \"bba\"\n",
        "# Output: -1"
      ],
      "execution_count": 1,
      "outputs": []
    },
    {
      "cell_type": "code",
      "metadata": {
        "id": "g6MBYmC2SErG",
        "colab_type": "code",
        "colab": {}
      },
      "source": [
        "# define the input\n",
        "haystack = \"hello\"\n",
        "needle = \"ll\""
      ],
      "execution_count": 8,
      "outputs": []
    },
    {
      "cell_type": "code",
      "metadata": {
        "id": "WEETqPJPRJMv",
        "colab_type": "code",
        "colab": {}
      },
      "source": [
        "def strStr(haystack,needle):\n",
        "\n",
        "  # 并不需要索引haystack全部的值\n",
        "  # 这取决于needle的长度\n",
        "  \n",
        "  for i in range(len(haystack) - len(needle) + 1):\n",
        "    if haystack[i:i+len(needle)] == needle:\n",
        "      return i\n",
        "  return -1"
      ],
      "execution_count": 10,
      "outputs": []
    },
    {
      "cell_type": "code",
      "metadata": {
        "id": "kpKDXRmmSDxj",
        "colab_type": "code",
        "colab": {
          "base_uri": "https://localhost:8080/",
          "height": 35
        },
        "outputId": "3097e81e-b529-475c-b0e8-357010e54a6f"
      },
      "source": [
        "strStr(haystack, needle)"
      ],
      "execution_count": 11,
      "outputs": [
        {
          "output_type": "execute_result",
          "data": {
            "text/plain": [
              "2"
            ]
          },
          "metadata": {
            "tags": []
          },
          "execution_count": 11
        }
      ]
    },
    {
      "cell_type": "code",
      "metadata": {
        "id": "oSMvkizkSPZu",
        "colab_type": "code",
        "colab": {}
      },
      "source": [
        "def strStr(haystack,needle):\n",
        "  # find函数也可以解决这个问题\n",
        "  if needle in haystack:\n",
        "    return haystack.find(needle)\n",
        "  else:\n",
        "    return -1"
      ],
      "execution_count": 12,
      "outputs": []
    },
    {
      "cell_type": "code",
      "metadata": {
        "id": "OECbim-dSwuu",
        "colab_type": "code",
        "colab": {
          "base_uri": "https://localhost:8080/",
          "height": 35
        },
        "outputId": "3b7a50ae-378c-4a7d-fb18-789866c07770"
      },
      "source": [
        "strStr(haystack, needle)"
      ],
      "execution_count": 13,
      "outputs": [
        {
          "output_type": "execute_result",
          "data": {
            "text/plain": [
              "2"
            ]
          },
          "metadata": {
            "tags": []
          },
          "execution_count": 13
        }
      ]
    },
    {
      "cell_type": "markdown",
      "metadata": {
        "id": "5dCR52fZUqYi",
        "colab_type": "text"
      },
      "source": [
        "## [Search Insert Position](https://leetcode.com/problems/search-insert-position/)\n",
        "\n",
        "\n",
        "Given a sorted array and a target value, return the index if the target is found. If not, return the index where it would be if it were inserted in order.\n",
        "\n",
        "You may assume no duplicates in the array.\n"
      ]
    },
    {
      "cell_type": "code",
      "metadata": {
        "id": "qZLtw2pzSyBJ",
        "colab_type": "code",
        "colab": {}
      },
      "source": [
        "# Example 1:\n",
        "\n",
        "# Input: [1,3,5,6], 5\n",
        "# Output: 2\n",
        "# Example 2:\n",
        "\n",
        "# Input: [1,3,5,6], 2\n",
        "# Output: 1"
      ],
      "execution_count": null,
      "outputs": []
    },
    {
      "cell_type": "code",
      "metadata": {
        "id": "EXJFdj3RVeXs",
        "colab_type": "code",
        "colab": {}
      },
      "source": [
        "# define the input\n",
        "nums = [1,3,5,6]\n",
        "target = 7"
      ],
      "execution_count": 38,
      "outputs": []
    },
    {
      "cell_type": "code",
      "metadata": {
        "id": "vgHhH6FYU7FJ",
        "colab_type": "code",
        "colab": {}
      },
      "source": [
        "def seachInsert(nums,target):\n",
        "  for i in range(len(nums)):\n",
        "    if nums[i] == target:\n",
        "      return i\n",
        "    else:\n",
        "      nums.append(target)\n",
        "      nums.sort()\n",
        "      return nums.index(target)"
      ],
      "execution_count": 39,
      "outputs": []
    },
    {
      "cell_type": "code",
      "metadata": {
        "id": "969cQ1O-VdjP",
        "colab_type": "code",
        "colab": {
          "base_uri": "https://localhost:8080/",
          "height": 35
        },
        "outputId": "bcbe80ca-e5e4-4289-e27c-e24d218b424a"
      },
      "source": [
        "seachInsert(nums,target)"
      ],
      "execution_count": 40,
      "outputs": [
        {
          "output_type": "execute_result",
          "data": {
            "text/plain": [
              "4"
            ]
          },
          "metadata": {
            "tags": []
          },
          "execution_count": 40
        }
      ]
    },
    {
      "cell_type": "markdown",
      "metadata": {
        "id": "V9QsqTo7YVv0",
        "colab_type": "text"
      },
      "source": [
        "## [Maximum Subarray](https://leetcode.com/problems/maximum-subarray/)\n",
        "\n",
        "Given an integer array nums, find the contiguous subarray (containing at least one number) which has the largest sum and return its sum.\n",
        "\n",
        "\n",
        "\n"
      ]
    },
    {
      "cell_type": "code",
      "metadata": {
        "id": "WdvCLA5oWAhK",
        "colab_type": "code",
        "colab": {}
      },
      "source": [
        "# Example:\n",
        "\n",
        "# Input: [-2,1,-3,4,-1,2,1,-5,4],\n",
        "# Output: 6\n",
        "# Explanation: [4,-1,2,1] has the largest sum = 6."
      ],
      "execution_count": 2,
      "outputs": []
    },
    {
      "cell_type": "code",
      "metadata": {
        "id": "wgwpG5tX7gUi",
        "colab_type": "code",
        "colab": {}
      },
      "source": [
        "# define the input\n",
        "nums = [-2,1,-3,4,-1,2,1,-5,4]"
      ],
      "execution_count": 4,
      "outputs": []
    },
    {
      "cell_type": "code",
      "metadata": {
        "id": "_PZPWyTgYttb",
        "colab_type": "code",
        "colab": {}
      },
      "source": [
        "def maxSubArray(nums):\n",
        "  if max(nums)<0:\n",
        "    return max(nums)\n",
        "  local_max,global_max = 0,0\n",
        "  print('nums',nums)\n",
        "  for num in nums:\n",
        "    print('num',num)\n",
        "    local_max = max(0,local_max+num)\n",
        "    print('local_max', local_max)\n",
        "    global_max = max(global_max, local_max)\n",
        "    print('global_max', global_max)\n",
        "  return global_max"
      ],
      "execution_count": 11,
      "outputs": []
    },
    {
      "cell_type": "code",
      "metadata": {
        "id": "uCv6U2y57fNH",
        "colab_type": "code",
        "colab": {
          "base_uri": "https://localhost:8080/",
          "height": 531
        },
        "outputId": "f3c48ebd-bd83-4529-ef8b-f49a6da1ba43"
      },
      "source": [
        "maxSubArray(nums)"
      ],
      "execution_count": 12,
      "outputs": [
        {
          "output_type": "stream",
          "text": [
            "nums [-2, 1, -3, 4, -1, 2, 1, -5, 4]\n",
            "num -2\n",
            "local_max 0\n",
            "global_max 0\n",
            "num 1\n",
            "local_max 1\n",
            "global_max 1\n",
            "num -3\n",
            "local_max 0\n",
            "global_max 1\n",
            "num 4\n",
            "local_max 4\n",
            "global_max 4\n",
            "num -1\n",
            "local_max 3\n",
            "global_max 4\n",
            "num 2\n",
            "local_max 5\n",
            "global_max 5\n",
            "num 1\n",
            "local_max 6\n",
            "global_max 6\n",
            "num -5\n",
            "local_max 1\n",
            "global_max 6\n",
            "num 4\n",
            "local_max 5\n",
            "global_max 6\n"
          ],
          "name": "stdout"
        },
        {
          "output_type": "execute_result",
          "data": {
            "text/plain": [
              "6"
            ]
          },
          "metadata": {
            "tags": []
          },
          "execution_count": 12
        }
      ]
    },
    {
      "cell_type": "code",
      "metadata": {
        "id": "flIxvP4l7pPq",
        "colab_type": "code",
        "colab": {}
      },
      "source": [
        ""
      ],
      "execution_count": null,
      "outputs": []
    }
  ]
}