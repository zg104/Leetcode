{
  "nbformat": 4,
  "nbformat_minor": 0,
  "metadata": {
    "colab": {
      "name": "Leetcode1-50.ipynb",
      "provenance": [],
      "authorship_tag": "ABX9TyNQLOo36CLfz00sYl6IpkqD",
      "include_colab_link": true
    },
    "kernelspec": {
      "name": "python3",
      "display_name": "Python 3"
    }
  },
  "cells": [
    {
      "cell_type": "markdown",
      "metadata": {
        "id": "view-in-github",
        "colab_type": "text"
      },
      "source": [
        "<a href=\"https://colab.research.google.com/github/zg104/Leetcode/blob/master/Leetcode1_50.ipynb\" target=\"_parent\"><img src=\"https://colab.research.google.com/assets/colab-badge.svg\" alt=\"Open In Colab\"/></a>"
      ]
    },
    {
      "cell_type": "code",
      "metadata": {
        "id": "OfZxUjT-5bzf",
        "colab_type": "code",
        "colab": {}
      },
      "source": [
        ""
      ],
      "execution_count": null,
      "outputs": []
    },
    {
      "cell_type": "markdown",
      "metadata": {
        "id": "B-0urvly5cM1",
        "colab_type": "text"
      },
      "source": [
        "# Leetcode Day 1 -- 6/21/2020\n",
        "\n",
        "- two sum\n",
        "- reverse integer\n",
        "- palindrome number"
      ]
    },
    {
      "cell_type": "markdown",
      "metadata": {
        "id": "Y2wVODvFviRb",
        "colab_type": "text"
      },
      "source": [
        "## [Two Sum](https://leetcode.com/problems/two-sum/)\n",
        "\n",
        "Given an array of integers, return indices of the two numbers such that they add up to a specific target.\n",
        "\n",
        "You may assume that each input would have exactly one solution, and you may not use the same element twice."
      ]
    },
    {
      "cell_type": "code",
      "metadata": {
        "id": "NCKKQMGyvtRB",
        "colab_type": "code",
        "colab": {}
      },
      "source": [
        "# Given nums = [2, 7, 11, 15], target = 9,\n",
        "\n",
        "# Because nums[0] + nums[1] = 2 + 7 = 9,\n",
        "# return [0, 1]."
      ],
      "execution_count": 2,
      "outputs": []
    },
    {
      "cell_type": "code",
      "metadata": {
        "id": "UIKU6pOIwQ4r",
        "colab_type": "code",
        "colab": {}
      },
      "source": [
        "# define the input\n",
        "nums = [2,7,11,15]\n",
        "target = 9"
      ],
      "execution_count": 3,
      "outputs": []
    },
    {
      "cell_type": "code",
      "metadata": {
        "id": "Z_p8yE6Ev85r",
        "colab_type": "code",
        "colab": {
          "base_uri": "https://localhost:8080/",
          "height": 70
        },
        "outputId": "613ec6df-0383-4bb8-91bf-887118efdd56"
      },
      "source": [
        "%%time\n",
        "\n",
        "# 不难想到我们可以用两个循环遍历所有列表中的元素\n",
        "# 从而使得每一对的和和target来比较，如果相等，则返回对应的index\n",
        "# 但是这样做时间消耗在o(n^2)左右\n",
        "\n",
        "def bruteforce2sum(nums,target):\n",
        "  for i in range(len(nums)):\n",
        "    for j in range(i+1,len(nums)):\n",
        "      sum = nums[i] + nums[j]\n",
        "      if sum == target:\n",
        "        return [i,j]\n",
        "print(bruteforce2sum(nums,target))"
      ],
      "execution_count": 5,
      "outputs": [
        {
          "output_type": "stream",
          "text": [
            "[0, 1]\n",
            "CPU times: user 344 µs, sys: 0 ns, total: 344 µs\n",
            "Wall time: 288 µs\n"
          ],
          "name": "stdout"
        }
      ]
    },
    {
      "cell_type": "code",
      "metadata": {
        "id": "A0wEaZ9lvyYr",
        "colab_type": "code",
        "colab": {
          "base_uri": "https://localhost:8080/",
          "height": 52
        },
        "outputId": "e9e838c2-015f-42cd-d31a-4a94f7b72f3c"
      },
      "source": [
        "# 改进！\n",
        "\n",
        "# 假如我们有nums = [2,7,11,15], target = 9\n",
        "# 那么如果只用一次循环该怎么做呢？\n",
        "# 第一个数字是2，那么我们需要找的是 9-2=7 的位置\n",
        "# 也就是我们需要一种方法储存complement的index （字典）\n",
        "\n",
        "%%time\n",
        "def TwoSum(nums,target):\n",
        "\n",
        "  # 如果nums长度小于等于1的话，没有和\n",
        "  if len(nums) <= 1:\n",
        "    return []\n",
        "  \n",
        "  # 建立空的字典储存complement\n",
        "  dic = {}\n",
        "  for i in range(len(nums)):\n",
        "\n",
        "    # 第一次循环\n",
        "    # num = 2\n",
        "    # key = 2 not in dict --> dic[7] = 0\n",
        "    # dic = {7:0}\n",
        "    # 也就是如果你有7，那你和num[0]相加等于target\n",
        "    # 所以接下来我们继续遍历，知道找到7的位置（如果存在的话）\n",
        "\n",
        "    # 第二次循环\n",
        "    # num = 7\n",
        "    # key = 7 in dict 因为 dic = {7:0}\n",
        "    # 所以我们知道了7的index，等于i\n",
        "    # 7的补是2，也就是dic[nums[i]]\n",
        "\n",
        "    # 要注意这个题要求有唯一解！\n",
        "\n",
        "    num = nums[i]\n",
        "    if num in dic: \n",
        "      return [dic[num],i]\n",
        "    else:\n",
        "      dic[target-num] = i\n",
        "  return []\n",
        "\n",
        "TwoSum(nums,target)\n",
        "\n",
        "# 节省很多时间！"
      ],
      "execution_count": 19,
      "outputs": [
        {
          "output_type": "stream",
          "text": [
            "CPU times: user 9 µs, sys: 1 µs, total: 10 µs\n",
            "Wall time: 12.6 µs\n"
          ],
          "name": "stdout"
        }
      ]
    },
    {
      "cell_type": "markdown",
      "metadata": {
        "id": "h-vhHPS_0etV",
        "colab_type": "text"
      },
      "source": [
        "## [Reverse Integer](https://leetcode.com/problems/reverse-integer/)\n",
        "\n",
        "Given a 32-bit signed integer, reverse digits of an integer.\n",
        "\n",
        "__Note:__\n",
        "Assume we are dealing with an environment which could only store integers within the 32-bit signed integer range: **[−2^31,  2^31 − 1]**. For the purpose of this problem, assume that your function returns 0 when the reversed integer overflows."
      ]
    },
    {
      "cell_type": "code",
      "metadata": {
        "id": "VRR9IPcnzrNY",
        "colab_type": "code",
        "colab": {}
      },
      "source": [
        "# Example 1:\n",
        "\n",
        "# Input: 123\n",
        "# Output: 321\n",
        "\n",
        "# Example 2:\n",
        "\n",
        "# Input: -123\n",
        "# Output: -321\n",
        "\n",
        "# Example 3:\n",
        "\n",
        "# Input: 120\n",
        "# Output: 21"
      ],
      "execution_count": 20,
      "outputs": []
    },
    {
      "cell_type": "code",
      "metadata": {
        "id": "Z9099POu2rly",
        "colab_type": "code",
        "colab": {}
      },
      "source": [
        "# define the input\n",
        "num = 1234230"
      ],
      "execution_count": 25,
      "outputs": []
    },
    {
      "cell_type": "code",
      "metadata": {
        "id": "3Ahnb4_D0rA-",
        "colab_type": "code",
        "colab": {
          "base_uri": "https://localhost:8080/",
          "height": 52
        },
        "outputId": "99089b13-e8c2-40e9-a757-2b1a51cd7e2b"
      },
      "source": [
        "%%time\n",
        "\n",
        "def ReverseInteger(num):\n",
        "  # 我们想做的是把数字反转过来，那么我们需要把一个数字比如123\n",
        "  # 个位数上的3拿下来，赋值给另一个变量比如a\n",
        "  # 原来的数字变成120，我们把它变成12\n",
        "  # 再把12中的2拿下来放在a的个位，a变成了32\n",
        "  # 原来的数字变成了1\n",
        "  # 最后再把1放在a的个位，a变成了321\n",
        "  # 原来的数字为0，结束！\n",
        "\n",
        "  result = 0\n",
        "\n",
        "  # 先把所有数字变成正数，再去讨论正负号的问题\n",
        "  a = abs(num)\n",
        "  while(a != 0):\n",
        "    temp = a % 10\n",
        "    result = result * 10 + temp\n",
        "    a = a // 10\n",
        "\n",
        "  if num > 0 and result < 2147483647:\n",
        "    return num\n",
        "  elif num < 0 and result <= 2147483647:\n",
        "    return -num\n",
        "  else:\n",
        "    return 0\n",
        "\n",
        "\n",
        "ReverseInteger(21473643)"
      ],
      "execution_count": 37,
      "outputs": [
        {
          "output_type": "stream",
          "text": [
            "CPU times: user 12 µs, sys: 2 µs, total: 14 µs\n",
            "Wall time: 16.7 µs\n"
          ],
          "name": "stdout"
        }
      ]
    },
    {
      "cell_type": "markdown",
      "metadata": {
        "id": "hjEuebIg3-TQ",
        "colab_type": "text"
      },
      "source": [
        "## [Palindrome Number](https://leetcode.com/problems/palindrome-number/)\n",
        "\n",
        "Determine whether an integer is a palindrome. An integer is a palindrome when it reads the same backward as forward."
      ]
    },
    {
      "cell_type": "code",
      "metadata": {
        "id": "Nd4ozt0L3EKj",
        "colab_type": "code",
        "colab": {}
      },
      "source": [
        "# Example 1:\n",
        "\n",
        "# Input: 121\n",
        "# Output: true\n",
        "\n",
        "# Example 2:\n",
        "\n",
        "# Input: -121\n",
        "# Output: false\n",
        "# Explanation: From left to right, it reads -121. From right to left, \n",
        "# it becomes 121-. Therefore it is not a palindrome.\n",
        "\n",
        "# Example 3:\n",
        "\n",
        "# Input: 10\n",
        "# Output: false\n",
        "# Explanation: Reads 01 from right to left. Therefore it is not a palindrome."
      ],
      "execution_count": null,
      "outputs": []
    },
    {
      "cell_type": "code",
      "metadata": {
        "id": "3u9pl_ZD470o",
        "colab_type": "code",
        "colab": {}
      },
      "source": [
        "# define the input\n",
        "num = 12321"
      ],
      "execution_count": 39,
      "outputs": []
    },
    {
      "cell_type": "code",
      "metadata": {
        "id": "5t5gdhHR4Var",
        "colab_type": "code",
        "colab": {}
      },
      "source": [
        "def PalindromeNumber(num):\n",
        "  # 和之前的题非常相似\n",
        "  # 我们只需判断reverse是否等于原来的数字\n",
        "  # 注意负数肯定不满足条件\n",
        "\n",
        "  res = 0\n",
        "  a = abs(num)\n",
        "\n",
        "  while(a != 0):\n",
        "    temp = a % 10\n",
        "    res = res * 10 + temp\n",
        "    a = a // 10\n",
        "  \n",
        "  if num < 0:\n",
        "    return False\n",
        "\n",
        "  if num == res:\n",
        "    return True"
      ],
      "execution_count": 45,
      "outputs": []
    },
    {
      "cell_type": "code",
      "metadata": {
        "id": "YjYRD2d65FVp",
        "colab_type": "code",
        "colab": {
          "base_uri": "https://localhost:8080/",
          "height": 70
        },
        "outputId": "d79f29ee-759e-4547-9b10-3132caa5fa21"
      },
      "source": [
        "%%time\n",
        "PalindromeNumber(num)"
      ],
      "execution_count": 46,
      "outputs": [
        {
          "output_type": "stream",
          "text": [
            "CPU times: user 8 µs, sys: 0 ns, total: 8 µs\n",
            "Wall time: 10.7 µs\n"
          ],
          "name": "stdout"
        },
        {
          "output_type": "execute_result",
          "data": {
            "text/plain": [
              "True"
            ]
          },
          "metadata": {
            "tags": []
          },
          "execution_count": 46
        }
      ]
    },
    {
      "cell_type": "markdown",
      "metadata": {
        "id": "QZ1SPwIv59h8",
        "colab_type": "text"
      },
      "source": [
        "To be continued!"
      ]
    }
  ]
}